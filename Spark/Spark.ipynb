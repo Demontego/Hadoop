{
 "cells": [
  {
   "cell_type": "code",
   "execution_count": 1,
   "metadata": {},
   "outputs": [
    {
     "name": "stdout",
     "output_type": "stream",
     "text": [
      "8737 has rank: 639.8010490902625.\n",
      "2914 has rank: 558.8945949001937.\n",
      "18964 has rank: 382.13256008828665.\n",
      "1220 has rank: 337.657728851824.\n",
      "2409 has rank: 316.2258751375721.\n",
      "10029 has rank: 308.2107822787295.\n",
      "214538 has rank: 289.95154392199106.\n",
      "7343 has rank: 276.70505934087265.\n",
      "39295 has rank: 254.98966135869065.\n",
      "18963 has rank: 253.3228530923532.\n",
      "39.265833783149716\n"
     ]
    }
   ],
   "source": [
    "from __future__ import print_function\n",
    "from operator import add, itemgetter\n",
    "import re\n",
    "import sys\n",
    "import time\n",
    "from pyspark.sql import SparkSession\n",
    "\n",
    "\n",
    "def computeContribs(urls, rank):\n",
    "    \"\"\"Calculates URL contributions to the rank of other URLs.\"\"\"\n",
    "    num_urls = len(urls)\n",
    "    for url in urls:\n",
    "        yield (url, rank / num_urls)\n",
    "\n",
    "\n",
    "def parseNeighbors(urls):\n",
    "    \"\"\"Parses a urls pair string into urls pair.\"\"\"\n",
    "    parts = re.split(r'\\s+', urls)\n",
    "    return parts[0], parts[1]\n",
    "\n",
    "\n",
    "\n",
    "    # Initialize the spark context.\n",
    "spark = SparkSession\\\n",
    "    .builder\\\n",
    "    .appName(\"PythonPageRank\")\\\n",
    "    .config(\"spark.driver.memory\", \"3g\")\\\n",
    "    .config(\"spark.driver.maxResultSize\", \"3g\")\\\n",
    "    .config(\"spark.executor.memory\", \"3g\")\\\n",
    "    .config(\"spark.python.worker.memory\", \"2g\")\\\n",
    "    .getOrCreate()\n",
    "\n",
    "# Loads in input file. It should be in format of:\n",
    "#     URL         neighbor URL\n",
    "#     URL         neighbor URL\n",
    "#     URL         neighbor URL\n",
    "#     ...\n",
    "start = time.time()\n",
    "lines = spark.read.text(\"InOut/soc-LiveJournal1_2.txt\").rdd.map(lambda r: r[0])\n",
    "\n",
    "# Loads all URLs from input file and initialize their neighbors.\n",
    "links = lines.map(lambda urls: parseNeighbors(urls)).distinct().groupByKey().cache()\n",
    "\n",
    "# Loads all URLs with other URL(s) link to from input file and initialize ranks of them to one.\n",
    "ranks = links.map(lambda url_neighbors: (url_neighbors[0], 1.0))\n",
    "\n",
    "# Calculates and updates URL ranks continuously using PageRank algorithm.\n",
    "for iteration in range(10):\n",
    "    # Calculates URL contributions to the rank of other URLs.\n",
    "    contribs = links.join(ranks).flatMap(\n",
    "        lambda url_urls_rank: computeContribs(url_urls_rank[1][0], url_urls_rank[1][1]))\n",
    "\n",
    "    # Re-calculates URL ranks based on neighbor contributions.\n",
    "    ranks = contribs.reduceByKey(add).mapValues(lambda rank: rank * 0.85 + 0.15)\n",
    "ranks = ranks.sortBy(itemgetter(1), ascending=False)\n",
    "# Collects all URL ranks and dump them to console.\n",
    "for (link, rank) in ranks.take(10):\n",
    "    print(\"%s has rank: %s.\" % (link, rank))\n",
    "end = time.time()\n",
    "print ((end-start)/60)\n",
    "spark.stop()"
   ]
  },
  {
   "cell_type": "code",
   "execution_count": null,
   "metadata": {},
   "outputs": [],
   "source": []
  }
 ],
 "metadata": {
  "kernelspec": {
   "display_name": "Python 3",
   "language": "python",
   "name": "python3"
  },
  "language_info": {
   "codemirror_mode": {
    "name": "ipython",
    "version": 3
   },
   "file_extension": ".py",
   "mimetype": "text/x-python",
   "name": "python",
   "nbconvert_exporter": "python",
   "pygments_lexer": "ipython3",
   "version": "3.7.6"
  },
  "toc": {
   "base_numbering": 1,
   "nav_menu": {},
   "number_sections": true,
   "sideBar": true,
   "skip_h1_title": false,
   "title_cell": "Table of Contents",
   "title_sidebar": "Contents",
   "toc_cell": false,
   "toc_position": {},
   "toc_section_display": true,
   "toc_window_display": false
  }
 },
 "nbformat": 4,
 "nbformat_minor": 4
}
